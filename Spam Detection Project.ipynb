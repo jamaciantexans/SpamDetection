{
  "cells": [
    {
      "cell_type": "code",
      "execution_count": null,
      "metadata": {
        "id": "DPQQ95M9_3b7"
      },
      "outputs": [],
      "source": [
        "import pandas as pd\n",
        "\n",
        "# Load Excel file\n",
        "df = pd.read_excel(\"EmailSpamDataTrimmed.xls\")\n",
        "\n",
        "# print(df)"
      ]
    },
    {
      "cell_type": "code",
      "execution_count": 7,
      "metadata": {
        "colab": {
          "base_uri": "https://localhost:8080/"
        },
        "id": "FhzMruQxhdEv",
        "outputId": "eaf6cb93-a423-4ce0-a720-0b35f75caa6e"
      },
      "outputs": [
        {
          "name": "stdout",
          "output_type": "stream",
          "text": [
            "[[0 0 0 ... 0 0 0]\n",
            " [0 0 0 ... 0 0 0]\n",
            " [0 0 0 ... 0 0 0]\n",
            " ...\n",
            " [0 0 0 ... 0 0 0]\n",
            " [1 0 0 ... 0 0 0]\n",
            " [0 0 0 ... 0 0 0]]\n",
            "[0 0 0 ... 1 1 0]\n"
          ]
        }
      ],
      "source": [
        "X = df.drop(columns=['Prediction', 'Email No.']) # all word count columns (features)\n",
        "y = df['Prediction'] # the 'Prediction' column (labels: spam or legit)\n",
        "\n",
        "# convert emails into numerical features (word frequency vectors)\n",
        "x_vector = X.to_numpy()\n",
        "y_vector = y.to_numpy()\n",
        "\n",
        "print(x_vector)\n",
        "print(y_vector)"
      ]
    },
    {
      "cell_type": "code",
      "execution_count": 8,
      "metadata": {
        "colab": {
          "base_uri": "https://localhost:8080/"
        },
        "id": "YLu84Kiwk8Na",
        "outputId": "ff293dfa-fa24-474d-9641-873795a9d54b"
      },
      "outputs": [
        {
          "name": "stdout",
          "output_type": "stream",
          "text": [
            "Train set size: (4137, 20)\n",
            "Test set size: (1035, 20)\n"
          ]
        }
      ],
      "source": [
        "from sklearn.model_selection import train_test_split\n",
        "\n",
        "# split dataset\n",
        "x_train, x_test, y_train, y_test = train_test_split(\n",
        "    x_vector,\n",
        "    y_vector,\n",
        "    test_size=0.2,     # 20% test size\n",
        "    random_state=42,   # makes the split reproducible\n",
        "    stratify=y         # keeps the same spam/legit ratio in both sets\n",
        ")\n",
        "\n",
        "print(\"Train set size:\", x_train.shape)\n",
        "print(\"Test set size:\", x_test.shape)"
      ]
    },
    {
      "cell_type": "code",
      "execution_count": 11,
      "metadata": {
        "colab": {
          "base_uri": "https://localhost:8080/"
        },
        "id": "u-UnrjGZxDSu",
        "outputId": "a5ff4a7e-03d2-4099-b54a-c5fa0c738db6"
      },
      "outputs": [
        {
          "name": "stdout",
          "output_type": "stream",
          "text": [
            "Naïve Bayes Accuracy: 0.7777777777777778\n",
            "Classification Report:\n",
            "               precision    recall  f1-score   support\n",
            "\n",
            "           0       0.78      0.96      0.86       735\n",
            "           1       0.77      0.34      0.47       300\n",
            "\n",
            "    accuracy                           0.78      1035\n",
            "   macro avg       0.77      0.65      0.66      1035\n",
            "weighted avg       0.78      0.78      0.75      1035\n",
            "\n"
          ]
        }
      ],
      "source": [
        "from sklearn.naive_bayes import MultinomialNB\n",
        "from sklearn.metrics import classification_report, accuracy_score\n",
        "\n",
        "nb_model = MultinomialNB() # initialize the Naïve Bayes model\n",
        "\n",
        "nb_model.fit(x_train, y_train) # train the model\n",
        "\n",
        "y_pred = nb_model.predict(x_test) # make predictions on the test set\n",
        "\n",
        "print(\"Naïve Bayes Accuracy:\", accuracy_score(y_test, y_pred))\n",
        "print(\"Classification Report:\\n\", classification_report(y_test, y_pred))"
      ]
    }
  ],
  "metadata": {
    "colab": {
      "provenance": []
    },
    "kernelspec": {
      "display_name": "Python 3",
      "name": "python3"
    },
    "language_info": {
      "codemirror_mode": {
        "name": "ipython",
        "version": 3
      },
      "file_extension": ".py",
      "mimetype": "text/x-python",
      "name": "python",
      "nbconvert_exporter": "python",
      "pygments_lexer": "ipython3",
      "version": "3.12.1"
    }
  },
  "nbformat": 4,
  "nbformat_minor": 0
}
